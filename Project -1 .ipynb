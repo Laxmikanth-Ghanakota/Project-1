{
 "cells": [
  {
   "cell_type": "markdown",
   "metadata": {},
   "source": [
    "# Assignment -  1"
   ]
  },
  {
   "cell_type": "markdown",
   "metadata": {},
   "source": [
    "1. Install Jupyter notebook and run the first program and share the screenshot of the output."
   ]
  },
  {
   "cell_type": "code",
   "execution_count": 46,
   "metadata": {},
   "outputs": [
    {
     "name": "stdout",
     "output_type": "stream",
     "text": [
      "Hello Python !!!\n"
     ]
    }
   ],
   "source": [
    "print(\"Hello Python !!!\")"
   ]
  },
  {
   "cell_type": "markdown",
   "metadata": {},
   "source": [
    "2. write a program which will find all such numbers which are divisiable by 7 but are not a multiple of 5, between 2000 \n",
    "and 3200(both included). The numbers obtained should be printed in a comma-seperated sequence on a single line."
   ]
  },
  {
   "cell_type": "code",
   "execution_count": 14,
   "metadata": {},
   "outputs": [
    {
     "name": "stdout",
     "output_type": "stream",
     "text": [
      "2002,2009,2016,2023,2037,2044,2051,2058,2072,2079,2086,2093,2107,2114,2121,2128,2142,2149,2156,2163,2177,2184,2191,2198,2212,2219,2226,2233,2247,2254,2261,2268,2282,2289,2296,2303,2317,2324,2331,2338,2352,2359,2366,2373,2387,2394,2401,2408,2422,2429,2436,2443,2457,2464,2471,2478,2492,2499,2506,2513,2527,2534,2541,2548,2562,2569,2576,2583,2597,2604,2611,2618,2632,2639,2646,2653,2667,2674,2681,2688,2702,2709,2716,2723,2737,2744,2751,2758,2772,2779,2786,2793,2807,2814,2821,2828,2842,2849,2856,2863,2877,2884,2891,2898,2912,2919,2926,2933,2947,2954,2961,2968,2982,2989,2996,3003,3017,3024,3031,3038,3052,3059,3066,3073,3087,3094,3101,3108,3122,3129,3136,3143,3157,3164,3171,3178,3192,3199\n"
     ]
    }
   ],
   "source": [
    "word_list = []\n",
    "for num in range(2000,3201):\n",
    "    if (num % 7 == 0) and (num % 5 != 0):\n",
    "        word_list.append(str(num))\n",
    "print( ',' .join(word_list))"
   ]
  },
  {
   "cell_type": "markdown",
   "metadata": {},
   "source": [
    "3. write a python program to accept the user's first name and last name and then getting them printed in the reverse order with a space between first name and last name"
   ]
  },
  {
   "cell_type": "code",
   "execution_count": 21,
   "metadata": {},
   "outputs": [
    {
     "name": "stdout",
     "output_type": "stream",
     "text": [
      "What is your first and last name ?Laxmikanth Ghanakota\n",
      "Ghanakota Laxmikanth\n"
     ]
    }
   ],
   "source": [
    "full_name = input(\"What is your first and last name ?\")\n",
    "print(full_name.split()[1] + \" \" + full_name.split()[0])"
   ]
  },
  {
   "cell_type": "code",
   "execution_count": 23,
   "metadata": {},
   "outputs": [
    {
     "name": "stdout",
     "output_type": "stream",
     "text": [
      "what is your firstname ?Laxmikanth\n",
      "What is your last name ?Sharma\n",
      "Sharma Laxmikanth\n"
     ]
    }
   ],
   "source": [
    "first_name = input(\"what is your firstname ?\")\n",
    "last_name = input(\"What is your last name ?\")\n",
    "print(last_name + \" \" + first_name)"
   ]
  },
  {
   "cell_type": "markdown",
   "metadata": {},
   "source": [
    "4. write a python program to find the volume of sphere with diameter 12 cm. "
   ]
  },
  {
   "cell_type": "code",
   "execution_count": 25,
   "metadata": {},
   "outputs": [
    {
     "name": "stdout",
     "output_type": "stream",
     "text": [
      "Volume of sphere :  905.142857142857\n"
     ]
    }
   ],
   "source": [
    "pi = 22/7\n",
    "dia = 12\n",
    "volume = (4/3) * pi * ((dia/2) ** 3)\n",
    "print (\"Volume of sphere : \", volume  )"
   ]
  },
  {
   "cell_type": "markdown",
   "metadata": {},
   "source": [
    "# Assignment - 2"
   ]
  },
  {
   "cell_type": "markdown",
   "metadata": {},
   "source": [
    "1. write a program which accepts a squence of comma seperated numbers from console and generate a list."
   ]
  },
  {
   "cell_type": "code",
   "execution_count": 61,
   "metadata": {},
   "outputs": [
    {
     "name": "stdout",
     "output_type": "stream",
     "text": [
      "input comma-seperated numbers :3,4,5,6\n",
      "['3', '4', '5', '6']\n"
     ]
    }
   ],
   "source": [
    "numbers = input(\"input comma-seperated numbers :\")\n",
    "# list1 = (numbers.split(\",\"))\n",
    "# print(list1)\n",
    "print(numbers.split(\",\"))"
   ]
  },
  {
   "cell_type": "markdown",
   "metadata": {},
   "source": [
    "2. create the below patten using nested for loop in python. stars 1 to 5 and 5  to 1"
   ]
  },
  {
   "cell_type": "code",
   "execution_count": 52,
   "metadata": {},
   "outputs": [],
   "source": [
    "def piramid_patten(n):\n",
    "    for outer in range(0,n):\n",
    "        for inner in range(0, outer+1):\n",
    "            print(\"*\", end=\"\")\n",
    "        print(\"\\r\")                # ending line after each row \n",
    "    for outer in range(0,n):\n",
    "        for inner in range(n-1, outer, -1):\n",
    "            print(\"*\", end=\"\")\n",
    "        print(\"\\r\")                # ending line after each row "
   ]
  },
  {
   "cell_type": "code",
   "execution_count": 53,
   "metadata": {},
   "outputs": [
    {
     "name": "stdout",
     "output_type": "stream",
     "text": [
      "*\r\n",
      "**\r\n",
      "***\r\n",
      "****\r\n",
      "*****\r\n",
      "****\r\n",
      "***\r\n",
      "**\r\n",
      "*\r\n",
      "\r\n"
     ]
    }
   ],
   "source": [
    "number = 5\n",
    "piramid_patten(number)"
   ]
  },
  {
   "cell_type": "markdown",
   "metadata": {},
   "source": [
    "3. write a python program to reverse a word after accepting the input from user."
   ]
  },
  {
   "cell_type": "code",
   "execution_count": 98,
   "metadata": {},
   "outputs": [
    {
     "name": "stdout",
     "output_type": "stream",
     "text": [
      "Enter the word : AcadGild\n",
      "dliGdacA\n"
     ]
    }
   ],
   "source": [
    "string = input(\"Enter the word : \")\n",
    "print(string[::-1])"
   ]
  },
  {
   "cell_type": "markdown",
   "metadata": {},
   "source": [
    "4. write a python program to print the given string in the format specified in the sample output.\n",
    "WE, THE PEOPLE OF INDIA, having solemnly resolved to constitute of india into a SOVEREIGN, SOCIALIST, SECULAR, DEMOCRATIC REPUBLIC and to secure to all its citizens"
   ]
  },
  {
   "cell_type": "code",
   "execution_count": 59,
   "metadata": {},
   "outputs": [
    {
     "name": "stdout",
     "output_type": "stream",
     "text": [
      "WE, THE PEOPLE OF INDIA, \n",
      "\t having solemnly resolved to constitute of india into a SOVEREIGN, ! \n",
      "\t\t SOCIALIST, SECULAR, DEMOCRATIC \n",
      "\t\t\u0001 REPUBLIC and to secure to all its citizens\n"
     ]
    }
   ],
   "source": [
    "print(\"WE, THE PEOPLE OF INDIA, \\n\\t having solemnly resolved to constitute of india into a SOVEREIGN, ! \\n\\t\\t SOCIALIST, SECULAR, DEMOCRATIC \\n\\t\\t\\1 REPUBLIC and to secure to all its citizens\")"
   ]
  },
  {
   "cell_type": "markdown",
   "metadata": {},
   "source": [
    "# Assignment - 3"
   ]
  },
  {
   "cell_type": "markdown",
   "metadata": {},
   "source": [
    "1.1 write a python program to implement your own myreduce() function which works exactly like python's built-in function reduce()."
   ]
  },
  {
   "cell_type": "code",
   "execution_count": 131,
   "metadata": {},
   "outputs": [
    {
     "data": {
      "text/plain": [
       "6"
      ]
     },
     "execution_count": 131,
     "metadata": {},
     "output_type": "execute_result"
    }
   ],
   "source": [
    "## reduce function\n",
    "def myreduce(func, iterable, start):\n",
    "    result = start\n",
    "    for element in iterable:\n",
    "        result = func(result, element)\n",
    "    return result\n",
    "\n",
    "myreduce(lambda x,y: x+y, [1, 2, 3], 0)\n"
   ]
  },
  {
   "cell_type": "markdown",
   "metadata": {},
   "source": [
    "1.2 write a python program to implement your own myfilter() function which works exactly like python's built-in function filter()."
   ]
  },
  {
   "cell_type": "code",
   "execution_count": 132,
   "metadata": {},
   "outputs": [
    {
     "data": {
      "text/plain": [
       "['abc', 'd']"
      ]
     },
     "execution_count": 132,
     "metadata": {},
     "output_type": "execute_result"
    }
   ],
   "source": [
    "## Filter function\n",
    "def myfilter(func, seq):\n",
    "    result = []\n",
    "    for elt in seq:\n",
    "        if func(elt):\n",
    "            result.append(elt)\n",
    "    return result\n",
    "\n",
    "# myfilter(str.isalpha, ['x', 'y', '2', '3', 'a']) \n",
    "myfilter(lambda s: len(s)>0, ['abc', '', 'd'])\n",
    "\n"
   ]
  },
  {
   "cell_type": "markdown",
   "metadata": {},
   "source": [
    "3. Implement a function longestWord() that takes a list of words and returns the longest one"
   ]
  },
  {
   "cell_type": "code",
   "execution_count": 106,
   "metadata": {},
   "outputs": [
    {
     "name": "stdout",
     "output_type": "stream",
     "text": [
      "lavista\n"
     ]
    }
   ],
   "source": [
    "def find_longest_word(words_list):  \n",
    "    word_len = []  \n",
    "    for n in words_list:  \n",
    "        word_len.append((len(n), n))  \n",
    "    word_len.sort()  \n",
    "    return word_len[-1][1]  \n",
    "\n",
    "print(find_longest_word([\"hasta \", \"lavista\", \"baby\"])) \n"
   ]
  },
  {
   "cell_type": "code",
   "execution_count": 107,
   "metadata": {},
   "outputs": [
    {
     "name": "stdout",
     "output_type": "stream",
     "text": [
      "lavista\n"
     ]
    }
   ],
   "source": [
    "from functools import reduce\n",
    "def  longestWord(list_words):\n",
    "    return reduce( lambda x, y:  y if (len(y) > len(x)) else x, list_words)\n",
    "\n",
    "print(longestWord([\"hasta \", \"lavista\", \"baby\"])) "
   ]
  },
  {
   "cell_type": "markdown",
   "metadata": {},
   "source": [
    "2. Implement List of comprehensions to produce the following lists.\n",
    "Write List comprehensions to produce the following lists."
   ]
  },
  {
   "cell_type": "code",
   "execution_count": 20,
   "metadata": {},
   "outputs": [
    {
     "data": {
      "text/plain": [
       "['A', 'C', 'A', 'D', 'G', 'I', 'L', 'D']"
      ]
     },
     "execution_count": 20,
     "metadata": {},
     "output_type": "execute_result"
    }
   ],
   "source": [
    "name = 'ACADGILD'\n",
    "#comp_list = [x for x in name if x !=\" \"]\n",
    "letter_list = [letter for letter in name]\n",
    "letter_list"
   ]
  },
  {
   "cell_type": "code",
   "execution_count": 44,
   "metadata": {},
   "outputs": [
    {
     "data": {
      "text/plain": [
       "['x', 'xx', 'xxx', 'xxxx', 'y', 'yy', 'yyy', 'yyyy', 'z', 'zz', 'zzz', 'zzzz']"
      ]
     },
     "execution_count": 44,
     "metadata": {},
     "output_type": "execute_result"
    }
   ],
   "source": [
    "## ['x', 'xx', 'xxx', 'xxxx', 'y', 'yy', 'yyy', 'yyyyy', 'z', 'zz', 'zzz', 'zzzz' ]\n",
    "name = 'xyz'\n",
    "comp_list = [name[b]*a for b in range(len(name)) for a in range(1,len(name)+2)  ]\n",
    "comp_list"
   ]
  },
  {
   "cell_type": "code",
   "execution_count": 97,
   "metadata": {},
   "outputs": [
    {
     "data": {
      "text/plain": [
       "['x', 'y', 'z', 'xx', 'yy', 'zz', 'xxx', 'yyy', 'zzz', 'xxxx', 'yyyy', 'zzzz']"
      ]
     },
     "execution_count": 97,
     "metadata": {},
     "output_type": "execute_result"
    }
   ],
   "source": [
    "## ['x', 'y', 'z', 'xx', 'yy', 'zz', 'xxx', 'yyy', 'zzz', 'xxxx', 'yyyy', 'zzzz']\n",
    "name = 'xyz'\n",
    "comp_list = [name[b]*a for a in range(1,len(name)+2) for b in range(len(name)) ]\n",
    "comp_list"
   ]
  },
  {
   "cell_type": "code",
   "execution_count": 36,
   "metadata": {},
   "outputs": [
    {
     "data": {
      "text/plain": [
       "[[2], [3], [4], [3], [4], [5], [4], [5], [6]]"
      ]
     },
     "execution_count": 36,
     "metadata": {},
     "output_type": "execute_result"
    }
   ],
   "source": [
    "## [[2], [3], [4], [3], [4], [5], [4], [5], [6]]\n",
    "num = '234'\n",
    "comp_list = [[int(num[b])+a] for b in range(len(num)) for a in range(len(num))  ]\n",
    "comp_list"
   ]
  },
  {
   "cell_type": "code",
   "execution_count": 39,
   "metadata": {},
   "outputs": [
    {
     "data": {
      "text/plain": [
       "[[2, 3, 4, 5], [3, 4, 5, 6], [4, 5, 6, 7], [5, 6, 7, 8]]"
      ]
     },
     "execution_count": 39,
     "metadata": {},
     "output_type": "execute_result"
    }
   ],
   "source": [
    "## [[2, 3, 4, 5], [3, 4, 5, 6], [4, 5, 6, 7], [5, 6, 7, 8]]\n",
    "num = '2345'\n",
    "comp_list = [ [int(num[b])+a for b in range(len(num))] for a in range(len(num))  ]\n",
    "comp_list"
   ]
  },
  {
   "cell_type": "code",
   "execution_count": 43,
   "metadata": {},
   "outputs": [
    {
     "data": {
      "text/plain": [
       "[(1, 1), (2, 1), (3, 1), (1, 2), (2, 2), (3, 2), (1, 3), (2, 3), (3, 3)]"
      ]
     },
     "execution_count": 43,
     "metadata": {},
     "output_type": "execute_result"
    }
   ],
   "source": [
    "## [(1, 1), (2, 1), (3, 1), (1, 2), (2, 2), (3, 2), (1, 3), (2, 3), (3, 3)]\n",
    "num = '123'\n",
    "comp_list = [ (a, int(num[b])) for b in range(len(num)) for a in range(1,len(num)+1)  ]\n",
    "comp_list"
   ]
  },
  {
   "cell_type": "markdown",
   "metadata": {},
   "source": [
    "# Assignment - 4"
   ]
  },
  {
   "cell_type": "markdown",
   "metadata": {},
   "source": [
    "1.1 Write a python program (with classes concept) to find the area of the triangle using below formula. \n",
    "area = (s*(s-a)*(s-b)*(s-c)) ** 0.5"
   ]
  },
  {
   "cell_type": "code",
   "execution_count": 133,
   "metadata": {},
   "outputs": [
    {
     "name": "stdout",
     "output_type": "stream",
     "text": [
      "Enter first side: 3\n",
      "Enter second side: 4\n",
      "Enter third side: 5\n",
      "6.0\n"
     ]
    }
   ],
   "source": [
    "class Triangle():\n",
    "\n",
    "    def __init__(self):\n",
    "        self.a = float(input('Enter first side: '))\n",
    "        self.b = float(input('Enter second side: '))\n",
    "        self.c = float(input('Enter third side: '))\n",
    "        \n",
    "\n",
    "    def get_area(self):\n",
    "        # calculate the semi-perimeter\n",
    "        self.s = (self.a + self.b + self.c) / 2\n",
    "        return (self.s*(self.s-self.a)*(self.s-self.b)*(self.s-self.c)) ** 0.5\n",
    "    \n",
    "tri = Triangle()\n",
    "print(tri.get_area())"
   ]
  },
  {
   "cell_type": "markdown",
   "metadata": {},
   "source": [
    "1.2 write a function filter_long_words()that takes a list of words and an integer and returns the list of words that are longer than n"
   ]
  },
  {
   "cell_type": "code",
   "execution_count": 115,
   "metadata": {},
   "outputs": [
    {
     "name": "stdout",
     "output_type": "stream",
     "text": [
      "Please input the list of words : I am laxmikanth and a data analyst\n",
      "Please enter minimum length of word : 5\n"
     ]
    },
    {
     "data": {
      "text/plain": [
       "['laxmikanth', 'analyst']"
      ]
     },
     "execution_count": 115,
     "metadata": {},
     "output_type": "execute_result"
    }
   ],
   "source": [
    "def filter_long_words(words_list, number):\n",
    "    \n",
    "    return list(filter(lambda word:len(word)>number, words_list))\n",
    "\n",
    "#    listwords = []\n",
    "#    for i in range(len(words_list)):\n",
    "#        if len(words_list[i]) > number:\n",
    "#            listwords.append(words_list[i])\n",
    "#    print(listwords) \n",
    "    \n",
    "#    return [word for word in words_list if len(word) > number]\n",
    "\n",
    "\n",
    "\n",
    "words = input(\"Please input the list of words : \").split()      # PHP Exercises Backend\n",
    "number = int(input(\"Please enter minimum length of word : \"))\n",
    "filter_long_words(words, number)\n",
    "#filter_long_words([\"PHP\", \"Exercises\", \"Backend\"], 5)\n"
   ]
  },
  {
   "cell_type": "markdown",
   "metadata": {},
   "source": [
    "2.1 Write a Python program using function concept that maps list of words into a list of integers\n",
    "representing the lengths of the corresponding words ."
   ]
  },
  {
   "cell_type": "code",
   "execution_count": 122,
   "metadata": {},
   "outputs": [
    {
     "name": "stdout",
     "output_type": "stream",
     "text": [
      "[3, 9, 7]\n",
      "[2, 3, 4]\n"
     ]
    }
   ],
   "source": [
    "def find_length_word(words_list):\n",
    "    \n",
    "    return list(map(lambda word:len(word), words_list))\n",
    "    \n",
    "#    word_len = []\n",
    "#    for n in range(len(words_list)):\n",
    "#        word_len.append(len(words_list[n]))\n",
    "#    return word_len\n",
    "\n",
    "print(find_length_word([\"PHP\", \"Exercises\", \"Backend\"]))\n",
    "print(find_length_word([ 'ab','cde','erty']))"
   ]
  },
  {
   "cell_type": "markdown",
   "metadata": {},
   "source": [
    "2.2 Write a Python function which takes a character (i.e. a string of length 1) and returns True if\n",
    "it is a vowel, False otherwise."
   ]
  },
  {
   "cell_type": "code",
   "execution_count": 123,
   "metadata": {},
   "outputs": [
    {
     "name": "stdout",
     "output_type": "stream",
     "text": [
      "['False']\n",
      "['False']\n",
      "['True']\n",
      "['True']\n"
     ]
    }
   ],
   "source": [
    "def isVowel(char):\n",
    "    return list(map(lambda ch: 'True' if(ch.lower() in 'aeiou') else 'False', char))\n",
    "\n",
    "#    if char.lower() in 'aeiou':\n",
    "#        return True\n",
    "#    else:\n",
    "#        return False\n",
    "    \n",
    "print(isVowel('L'))\n",
    "print(isVowel('l'))\n",
    "print(isVowel('u'))\n",
    "print(isVowel('A'))"
   ]
  },
  {
   "cell_type": "markdown",
   "metadata": {},
   "source": [
    "# Assignment - 5"
   ]
  },
  {
   "cell_type": "markdown",
   "metadata": {},
   "source": [
    "1. Write a function to compute 5/0 and use try/except to catch the exceptions."
   ]
  },
  {
   "cell_type": "code",
   "execution_count": 134,
   "metadata": {},
   "outputs": [
    {
     "name": "stdout",
     "output_type": "stream",
     "text": [
      "Oops! <class 'ZeroDivisionError'> occured.\n"
     ]
    }
   ],
   "source": [
    "import sys\n",
    "try:\n",
    "    r = 5 / 0\n",
    "except:\n",
    "    print(\"Oops!\",sys.exc_info()[0],\"occured.\")\n"
   ]
  },
  {
   "cell_type": "markdown",
   "metadata": {},
   "source": [
    "2. Implement a Python program to generate all sentences where subject is in [\"Americans\",\n",
    "\"Indians\"] and verb is in [\"Play\", \"watch\"] and the object is in [\"Baseball\",\"cricket\"]."
   ]
  },
  {
   "cell_type": "code",
   "execution_count": 130,
   "metadata": {},
   "outputs": [
    {
     "data": {
      "text/plain": [
       "['Americans  play Baseball.',\n",
       " 'Americans  play Cricket.',\n",
       " 'Americans  watch Baseball.',\n",
       " 'Americans  watch Cricket.',\n",
       " 'Indians play Baseball.',\n",
       " 'Indians play Cricket.',\n",
       " 'Indians watch Baseball.',\n",
       " 'Indians watch Cricket.']"
      ]
     },
     "execution_count": 130,
     "metadata": {},
     "output_type": "execute_result"
    }
   ],
   "source": [
    "subjects = [\"Americans \",\"Indians\"]\n",
    "verbs = [\"play\",\"watch\"]\n",
    "objects = [\"Baseball\",\"Cricket\"]\n",
    "def statements(a, b, c):\n",
    "    return [ (str(subjects[a]) + ' ' + str(verbs[b]) + ' ' + str(objects[c]) + '.') for a in range(len(subjects)) for b in range(len(verbs)) for c in range(len(objects)) ]\n",
    "\n",
    "#    for a in range(len(subjects)):\n",
    "#        for b in range(len(verbs)):\n",
    "#            for c in range(len(objects)):\n",
    "#                print(str(subjects[a]) + ' ' + str(verbs[b]) + ' ' + str(objects[c]) + '.')\n",
    "            \n",
    "statements(subjects, verbs, objects)"
   ]
  }
 ],
 "metadata": {
  "kernelspec": {
   "display_name": "Python 3",
   "language": "python",
   "name": "python3"
  },
  "language_info": {
   "codemirror_mode": {
    "name": "ipython",
    "version": 3
   },
   "file_extension": ".py",
   "mimetype": "text/x-python",
   "name": "python",
   "nbconvert_exporter": "python",
   "pygments_lexer": "ipython3",
   "version": "3.7.1"
  }
 },
 "nbformat": 4,
 "nbformat_minor": 2
}
